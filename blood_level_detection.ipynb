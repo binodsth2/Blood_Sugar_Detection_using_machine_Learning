{
  "cells": [
    {
      "cell_type": "markdown",
      "metadata": {
        "id": "view-in-github",
        "colab_type": "text"
      },
      "source": [
        "<a href=\"https://colab.research.google.com/github/binodsth2/Blood_Sugar_Detection_using_machine_Learning/blob/main/blood_level_detection.ipynb\" target=\"_parent\"><img src=\"https://colab.research.google.com/assets/colab-badge.svg\" alt=\"Open In Colab\"/></a>"
      ]
    },
    {
      "cell_type": "code",
      "execution_count": 1,
      "metadata": {
        "id": "be7tzwj0Y8UU"
      },
      "outputs": [],
      "source": [
        "#Initialize\n",
        "import numpy as np\n",
        "import pandas as pd\n",
        "import matplotlib.pyplot as plt\n",
        "import seaborn as sns\n",
        "# Import StandardScaler and MinMaxScaler individually from sklearn.preprocessing\n",
        "from sklearn.preprocessing import LabelEncoder\n",
        "from sklearn.preprocessing import StandardScaler, MinMaxScaler\n",
        "from sklearn.model_selection import train_test_split, cross_val_score\n",
        "from sklearn.svm import SVC\n",
        "from sklearn.naive_bayes import GaussianNB\n",
        "from sklearn.ensemble import RandomForestClassifier\n",
        "from sklearn.metrics import accuracy_score, confusion_matrix\n",
        "\n",
        "# Import RandomOverSampler\n",
        "from imblearn.over_sampling import RandomOverSampler\n"
      ]
    },
    {
      "cell_type": "code",
      "source": [
        "data=pd.read_csv('/content/drive/MyDrive/Machine_Learning/diabetes.csv')\n",
        "# Call head() on the DataFrame object df\n",
        "#df.head()\n",
        "#df.info()\n",
        "encoder=LabelEncoder()\n",
        "# Use the 'data' DataFrame instead of 'df'\n",
        "# data['Outcome']=encoder.fit_transform(data['Outcome'])\n",
        "data.head()\n",
        "\n",
        "X=data.iloc[:,:-1]\n",
        "y=data.iloc[:,-1]\n",
        "\n",
        "plt.figure(figsize=(18,8))\n",
        "sns.countplot(x=y) # Use x instead of X for countplot\n",
        "plt.title('Disease Class Distribution Before Resampling')\n",
        "plt.xticks(rotation=90) # Corrected xtricks to xticks\n",
        "plt.show()\n",
        "\n",
        "ros=RandomOverSampler(random_state=42)\n",
        "X_resampled,y_resampled=ros.fit_resample(X,y)\n",
        "\n",
        "print('Resamples Class Distribution\\n')\n",
        "pd.Series(y_resampled).value_counts() # Corrected series to Series\n",
        "\n",
        "# plt.figure(figsize=(18,8))\n",
        "# sns.countplot(x=y_resampled) # Use x instead of X for countplot\n",
        "# plt.title('Disease Class Distribution After Resampling')\n",
        "# plt.xticks(rotation=90) # Corrected xtricks to xticks\n",
        "# plt.show()"
      ],
      "metadata": {
        "colab": {
          "base_uri": "https://localhost:8080/",
          "height": 790
        },
        "id": "BDVyLFVTD1ZO",
        "outputId": "d2c417af-806c-44a0-ccc2-ab9da6109511"
      },
      "execution_count": 2,
      "outputs": [
        {
          "output_type": "display_data",
          "data": {
            "text/plain": [
              "<Figure size 1800x800 with 1 Axes>"
            ],
            "image/png": "[encoded data removed]"
          },
          "metadata": {}
        },
        {
          "output_type": "stream",
          "name": "stdout",
          "text": [
            "Resamples Class Distribution\n",
            "\n"
          ]
        },
        {
          "output_type": "execute_result",
          "data": {
            "text/plain": [
              "Income\n",
              "3.0    90385\n",
              "1.0    90385\n",
              "8.0    90385\n",
              "6.0    90385\n",
              "4.0    90385\n",
              "7.0    90385\n",
              "2.0    90385\n",
              "5.0    90385\n",
              "Name: count, dtype: int64"
            ],
            "text/html": [
              "<div>\n",
              "<style scoped>\n",
              "    .dataframe tbody tr th:only-of-type {\n",
              "        vertical-align: middle;\n",
              "    }\n",
              "\n",
              "    .dataframe tbody tr th {\n",
              "        vertical-align: top;\n",
              "    }\n",
              "\n",
              "    .dataframe thead th {\n",
              "        text-align: right;\n",
              "    }\n",
              "</style>\n",
              "<table border=\"1\" class=\"dataframe\">\n",
              "  <thead>\n",
              "    <tr style=\"text-align: right;\">\n",
              "      <th></th>\n",
              "      <th>count</th>\n",
              "    </tr>\n",
              "    <tr>\n",
              "      <th>Income</th>\n",
              "      <th></th>\n",
              "    </tr>\n",
              "  </thead>\n",
              "  <tbody>\n",
              "    <tr>\n",
              "      <th>3.0</th>\n",
              "      <td>90385</td>\n",
              "    </tr>\n",
              "    <tr>\n",
              "      <th>1.0</th>\n",
              "      <td>90385</td>\n",
              "    </tr>\n",
              "    <tr>\n",
              "      <th>8.0</th>\n",
              "      <td>90385</td>\n",
              "    </tr>\n",
              "    <tr>\n",
              "      <th>6.0</th>\n",
              "      <td>90385</td>\n",
              "    </tr>\n",
              "    <tr>\n",
              "      <th>4.0</th>\n",
              "      <td>90385</td>\n",
              "    </tr>\n",
              "    <tr>\n",
              "      <th>7.0</th>\n",
              "      <td>90385</td>\n",
              "    </tr>\n",
              "    <tr>\n",
              "      <th>2.0</th>\n",
              "      <td>90385</td>\n",
              "    </tr>\n",
              "    <tr>\n",
              "      <th>5.0</th>\n",
              "      <td>90385</td>\n",
              "    </tr>\n",
              "  </tbody>\n",
              "</table>\n",
              "</div><br><label><b>dtype:</b> int64</label>"
            ]
          },
          "metadata": {},
          "execution_count": 2
        }
      ]
    },
    {
      "cell_type": "code",
      "source": [
        "# Cross-Validation with Stratified K-fold\n",
        "if 'gender' in X_resampled.columns:\n",
        "    le = LabelEncoder()\n",
        "    X_resampled['gender'] = le.fit_transform(X_resampled['gender'])\n",
        "    X_resampled = X_resampled.fillna(0)\n",
        "\n",
        "if len(y_resampled.shape) > 1:\n",
        "        y_resampled = y_resampled.values.ravel()\n",
        "\n",
        "models = {\n",
        "    \"Decision Tree\": RandomForestClassifier(),\n",
        "    \"Naive Bayes\": GaussianNB(),\n",
        "    \"Support Vector Machine\": SVC()\n",
        "    #\"Random Forest\": RandomForestClassifier()\n",
        "}\n",
        "\n",
        "cv_scoring = 'accuracy'\n",
        "\n",
        "#stratified_kfold = StratifiedKFold(n_splits=10, shuffle=True, random_state=42)\n",
        "\n",
        "for model_name, model in models.items():\n",
        "  try:\n",
        "    scores = cross_val_score(model, X_resampled, y_resampled, cv=stratified_kfold, scoring=cv_scoring, error_score='raise')\n",
        "    print('='*50)\n",
        "    print(f\"Model:{model_name}\")\n",
        "    print(f\"Scores: {scores}\")\n",
        "    print(f\"Mean Accuracy: {scores.mean():.4f}\")\n",
        "  except Exception as e:\n",
        "        print(\"=\" * 50)\n",
        "        print(f\"Model: {model_name} failed with error:\")\n",
        "        print(e)"
      ],
      "metadata": {
        "colab": {
          "base_uri": "https://localhost:8080/"
        },
        "id": "sT_-85kVEmU9",
        "outputId": "0dd87e4e-a2a8-4ca2-ffc8-02743b918aa2"
      },
      "execution_count": 3,
      "outputs": [
        {
          "output_type": "stream",
          "name": "stdout",
          "text": [
            "==================================================\n",
            "Model: Decision Tree failed with error:\n",
            "name 'stratified_kfold' is not defined\n",
            "==================================================\n",
            "Model: Naive Bayes failed with error:\n",
            "name 'stratified_kfold' is not defined\n",
            "==================================================\n",
            "Model: Support Vector Machine failed with error:\n",
            "name 'stratified_kfold' is not defined\n"
          ]
        }
      ]
    },
    {
      "cell_type": "code",
      "source": [
        "#Training the individual model\n",
        "svm_model = SVC()\n",
        "svm_model.fit(X_resampled, y_resampled)\n",
        "svm_preds = svm_model.predict(X_resampled)\n",
        "cf_matrix_sum = confussion_matrix(y_resampled, svm_preds)\n",
        "plt.figure(figsize=(12, 8))\n",
        "sns.heatmap(cf_matrix_sum, annot=True, fmt='d')\n",
        "plt.title('Confusion Matrix for Support Vector Machine')\n",
        "plt.xlabel('Predicted Labels')\n",
        "plt.ylabel('True Labels')\n",
        "plt.show()\n",
        "\n",
        "print(f\"SVM ACCURACY: {accuracy_score(y_resampled,svm_preds)*100:.2f}%\")"
      ],
      "metadata": {
        "id": "SPmW6ZScFMad"
      },
      "execution_count": null,
      "outputs": []
    },
    {
      "cell_type": "code",
      "source": [],
      "metadata": {
        "id": "Vz0UZ4gyJFyZ"
      },
      "execution_count": null,
      "outputs": []
    }
  ],
  "metadata": {
    "colab": {
      "provenance": [],
      "mount_file_id": "1OM2troz39C1F1qYbsRhbwEGE1bKCGhle",
      "authorship_tag": "ABX9TyPNuxEUE7ormOXrCmLIOEbL",
      "include_colab_link": true
    },
    "kernelspec": {
      "display_name": "Python 3",
      "name": "python3"
    },
    "language_info": {
      "name": "python"
    }
  },
  "nbformat": 4,
  "nbformat_minor": 0
}